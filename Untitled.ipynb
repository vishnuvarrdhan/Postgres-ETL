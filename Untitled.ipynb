{
 "cells": [
  {
   "cell_type": "code",
   "execution_count": 1,
   "metadata": {
    "editable": true
   },
   "outputs": [],
   "source": [
    "import create_tables\n",
    "import etl"
   ]
  },
  {
   "cell_type": "code",
   "execution_count": 2,
   "metadata": {
    "editable": true
   },
   "outputs": [],
   "source": [
    "create_tables.main()"
   ]
  },
  {
   "cell_type": "code",
   "execution_count": 3,
   "metadata": {
    "editable": true
   },
   "outputs": [
    {
     "name": "stdout",
     "output_type": "stream",
     "text": [
      "76 files found in data/song_data\n",
      "1/76 files processed.\n",
      "2/76 files processed.\n",
      "3/76 files processed.\n",
      "4/76 files processed.\n",
      "5/76 files processed.\n",
      "6/76 files processed.\n",
      "7/76 files processed.\n",
      "8/76 files processed.\n",
      "9/76 files processed.\n",
      "10/76 files processed.\n",
      "11/76 files processed.\n",
      "12/76 files processed.\n",
      "13/76 files processed.\n",
      "14/76 files processed.\n",
      "15/76 files processed.\n",
      "16/76 files processed.\n",
      "17/76 files processed.\n",
      "18/76 files processed.\n",
      "19/76 files processed.\n",
      "20/76 files processed.\n",
      "21/76 files processed.\n",
      "22/76 files processed.\n",
      "23/76 files processed.\n",
      "24/76 files processed.\n",
      "25/76 files processed.\n",
      "26/76 files processed.\n",
      "27/76 files processed.\n",
      "28/76 files processed.\n",
      "29/76 files processed.\n",
      "30/76 files processed.\n",
      "31/76 files processed.\n",
      "32/76 files processed.\n",
      "33/76 files processed.\n",
      "34/76 files processed.\n",
      "35/76 files processed.\n",
      "36/76 files processed.\n",
      "37/76 files processed.\n",
      "38/76 files processed.\n",
      "39/76 files processed.\n",
      "40/76 files processed.\n",
      "41/76 files processed.\n",
      "42/76 files processed.\n",
      "43/76 files processed.\n",
      "44/76 files processed.\n",
      "45/76 files processed.\n",
      "46/76 files processed.\n",
      "47/76 files processed.\n",
      "48/76 files processed.\n",
      "49/76 files processed.\n",
      "50/76 files processed.\n",
      "51/76 files processed.\n",
      "52/76 files processed.\n",
      "53/76 files processed.\n",
      "54/76 files processed.\n",
      "55/76 files processed.\n",
      "56/76 files processed.\n",
      "57/76 files processed.\n",
      "58/76 files processed.\n",
      "59/76 files processed.\n",
      "60/76 files processed.\n",
      "61/76 files processed.\n",
      "62/76 files processed.\n",
      "63/76 files processed.\n",
      "64/76 files processed.\n",
      "65/76 files processed.\n",
      "66/76 files processed.\n",
      "67/76 files processed.\n",
      "68/76 files processed.\n",
      "69/76 files processed.\n",
      "70/76 files processed.\n",
      "71/76 files processed.\n",
      "72/76 files processed.\n",
      "73/76 files processed.\n",
      "74/76 files processed.\n",
      "75/76 files processed.\n",
      "76/76 files processed.\n",
      "32 files found in data/log_data\n",
      "1/32 files processed.\n",
      "2/32 files processed.\n",
      "3/32 files processed.\n",
      "4/32 files processed.\n",
      "5/32 files processed.\n",
      "6/32 files processed.\n",
      "7/32 files processed.\n",
      "8/32 files processed.\n",
      "9/32 files processed.\n",
      "10/32 files processed.\n",
      "11/32 files processed.\n",
      "12/32 files processed.\n",
      "13/32 files processed.\n",
      "14/32 files processed.\n",
      "15/32 files processed.\n",
      "16/32 files processed.\n",
      "17/32 files processed.\n",
      "18/32 files processed.\n",
      "19/32 files processed.\n",
      "20/32 files processed.\n",
      "21/32 files processed.\n",
      "22/32 files processed.\n",
      "23/32 files processed.\n",
      "24/32 files processed.\n",
      "25/32 files processed.\n",
      "26/32 files processed.\n",
      "27/32 files processed.\n",
      "28/32 files processed.\n",
      "29/32 files processed.\n",
      "30/32 files processed.\n",
      "31/32 files processed.\n",
      "32/32 files processed.\n"
     ]
    }
   ],
   "source": [
    "etl.main()"
   ]
  },
  {
   "cell_type": "code",
   "execution_count": null,
   "metadata": {
    "editable": true
   },
   "outputs": [],
   "source": []
  }
 ],
 "metadata": {
  "kernelspec": {
   "display_name": "Python 3",
   "language": "python",
   "name": "python3"
  },
  "language_info": {
   "codemirror_mode": {
    "name": "ipython",
    "version": 3
   },
   "file_extension": ".py",
   "mimetype": "text/x-python",
   "name": "python",
   "nbconvert_exporter": "python",
   "pygments_lexer": "ipython3",
   "version": "3.6.3"
  }
 },
 "nbformat": 4,
 "nbformat_minor": 4
}
